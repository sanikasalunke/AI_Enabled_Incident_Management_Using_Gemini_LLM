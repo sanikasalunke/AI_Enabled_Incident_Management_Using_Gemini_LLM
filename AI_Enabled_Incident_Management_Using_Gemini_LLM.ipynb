{
  "nbformat": 4,
  "nbformat_minor": 0,
  "metadata": {
    "colab": {
      "provenance": []
    },
    "kernelspec": {
      "name": "python3",
      "display_name": "Python 3"
    },
    "language_info": {
      "name": "python"
    }
  },
  "cells": [
    {
      "cell_type": "code",
      "source": [
        "pip install google-generativeai\n"
      ],
      "metadata": {
        "colab": {
          "base_uri": "https://localhost:8080/"
        },
        "id": "uWNRfTPI2PkN",
        "outputId": "42af14db-6d57-432c-ecea-32e95a73c583"
      },
      "execution_count": 1,
      "outputs": [
        {
          "output_type": "stream",
          "name": "stdout",
          "text": [
            "Requirement already satisfied: google-generativeai in /usr/local/lib/python3.12/dist-packages (0.8.5)\n",
            "Requirement already satisfied: google-ai-generativelanguage==0.6.15 in /usr/local/lib/python3.12/dist-packages (from google-generativeai) (0.6.15)\n",
            "Requirement already satisfied: google-api-core in /usr/local/lib/python3.12/dist-packages (from google-generativeai) (2.25.2)\n",
            "Requirement already satisfied: google-api-python-client in /usr/local/lib/python3.12/dist-packages (from google-generativeai) (2.184.0)\n",
            "Requirement already satisfied: google-auth>=2.15.0 in /usr/local/lib/python3.12/dist-packages (from google-generativeai) (2.38.0)\n",
            "Requirement already satisfied: protobuf in /usr/local/lib/python3.12/dist-packages (from google-generativeai) (5.29.5)\n",
            "Requirement already satisfied: pydantic in /usr/local/lib/python3.12/dist-packages (from google-generativeai) (2.11.10)\n",
            "Requirement already satisfied: tqdm in /usr/local/lib/python3.12/dist-packages (from google-generativeai) (4.67.1)\n",
            "Requirement already satisfied: typing-extensions in /usr/local/lib/python3.12/dist-packages (from google-generativeai) (4.15.0)\n",
            "Requirement already satisfied: proto-plus<2.0.0dev,>=1.22.3 in /usr/local/lib/python3.12/dist-packages (from google-ai-generativelanguage==0.6.15->google-generativeai) (1.26.1)\n",
            "Requirement already satisfied: googleapis-common-protos<2.0.0,>=1.56.2 in /usr/local/lib/python3.12/dist-packages (from google-api-core->google-generativeai) (1.70.0)\n",
            "Requirement already satisfied: requests<3.0.0,>=2.18.0 in /usr/local/lib/python3.12/dist-packages (from google-api-core->google-generativeai) (2.32.4)\n",
            "Requirement already satisfied: cachetools<6.0,>=2.0.0 in /usr/local/lib/python3.12/dist-packages (from google-auth>=2.15.0->google-generativeai) (5.5.2)\n",
            "Requirement already satisfied: pyasn1-modules>=0.2.1 in /usr/local/lib/python3.12/dist-packages (from google-auth>=2.15.0->google-generativeai) (0.4.2)\n",
            "Requirement already satisfied: rsa<5,>=3.1.4 in /usr/local/lib/python3.12/dist-packages (from google-auth>=2.15.0->google-generativeai) (4.9.1)\n",
            "Requirement already satisfied: httplib2<1.0.0,>=0.19.0 in /usr/local/lib/python3.12/dist-packages (from google-api-python-client->google-generativeai) (0.31.0)\n",
            "Requirement already satisfied: google-auth-httplib2<1.0.0,>=0.2.0 in /usr/local/lib/python3.12/dist-packages (from google-api-python-client->google-generativeai) (0.2.0)\n",
            "Requirement already satisfied: uritemplate<5,>=3.0.1 in /usr/local/lib/python3.12/dist-packages (from google-api-python-client->google-generativeai) (4.2.0)\n",
            "Requirement already satisfied: annotated-types>=0.6.0 in /usr/local/lib/python3.12/dist-packages (from pydantic->google-generativeai) (0.7.0)\n",
            "Requirement already satisfied: pydantic-core==2.33.2 in /usr/local/lib/python3.12/dist-packages (from pydantic->google-generativeai) (2.33.2)\n",
            "Requirement already satisfied: typing-inspection>=0.4.0 in /usr/local/lib/python3.12/dist-packages (from pydantic->google-generativeai) (0.4.2)\n",
            "Requirement already satisfied: grpcio<2.0.0,>=1.33.2 in /usr/local/lib/python3.12/dist-packages (from google-api-core[grpc]!=2.0.*,!=2.1.*,!=2.10.*,!=2.2.*,!=2.3.*,!=2.4.*,!=2.5.*,!=2.6.*,!=2.7.*,!=2.8.*,!=2.9.*,<3.0.0dev,>=1.34.1->google-ai-generativelanguage==0.6.15->google-generativeai) (1.75.1)\n",
            "Requirement already satisfied: grpcio-status<2.0.0,>=1.33.2 in /usr/local/lib/python3.12/dist-packages (from google-api-core[grpc]!=2.0.*,!=2.1.*,!=2.10.*,!=2.2.*,!=2.3.*,!=2.4.*,!=2.5.*,!=2.6.*,!=2.7.*,!=2.8.*,!=2.9.*,<3.0.0dev,>=1.34.1->google-ai-generativelanguage==0.6.15->google-generativeai) (1.71.2)\n",
            "Requirement already satisfied: pyparsing<4,>=3.0.4 in /usr/local/lib/python3.12/dist-packages (from httplib2<1.0.0,>=0.19.0->google-api-python-client->google-generativeai) (3.2.5)\n",
            "Requirement already satisfied: pyasn1<0.7.0,>=0.6.1 in /usr/local/lib/python3.12/dist-packages (from pyasn1-modules>=0.2.1->google-auth>=2.15.0->google-generativeai) (0.6.1)\n",
            "Requirement already satisfied: charset_normalizer<4,>=2 in /usr/local/lib/python3.12/dist-packages (from requests<3.0.0,>=2.18.0->google-api-core->google-generativeai) (3.4.3)\n",
            "Requirement already satisfied: idna<4,>=2.5 in /usr/local/lib/python3.12/dist-packages (from requests<3.0.0,>=2.18.0->google-api-core->google-generativeai) (3.10)\n",
            "Requirement already satisfied: urllib3<3,>=1.21.1 in /usr/local/lib/python3.12/dist-packages (from requests<3.0.0,>=2.18.0->google-api-core->google-generativeai) (2.5.0)\n",
            "Requirement already satisfied: certifi>=2017.4.17 in /usr/local/lib/python3.12/dist-packages (from requests<3.0.0,>=2.18.0->google-api-core->google-generativeai) (2025.10.5)\n"
          ]
        }
      ]
    },
    {
      "cell_type": "code",
      "source": [
        "\n",
        "import os\n",
        "import google.generativeai as genai\n",
        "from email.mime.text import MIMEText\n",
        "from email.mime.multipart import MIMEMultipart\n",
        "import smtplib\n",
        "import base64"
      ],
      "metadata": {
        "id": "K4pM0P8v2bcB"
      },
      "execution_count": 2,
      "outputs": []
    },
    {
      "cell_type": "code",
      "source": [
        "# Set your Gemini API key\n",
        "os.environ[\"GEMINI_API_KEY\"] = \"YOUR_API_KEY\"\n",
        "genai.configure(api_key=os.environ[\"GEMINI_API_KEY\"])\n",
        "\n",
        "# Initialize the model\n",
        "model = genai.GenerativeModel(\"gemini-2.5-flash\")\n"
      ],
      "metadata": {
        "id": "QoZD9mHy2tvB"
      },
      "execution_count": 3,
      "outputs": []
    },
    {
      "cell_type": "code",
      "source": [
        " #Example test query\n",
        "response = model.generate_content(\"Hello Gemini, are you working?\")\n",
        "print(response.text)\n"
      ],
      "metadata": {
        "colab": {
          "base_uri": "https://localhost:8080/",
          "height": 34
        },
        "id": "HMoGsvvyyy2P",
        "outputId": "15205d3c-cd96-4c7b-ffe1-e51a39da5070"
      },
      "execution_count": 4,
      "outputs": [
        {
          "output_type": "stream",
          "name": "stdout",
          "text": [
            "Hello! Yes, I am here and ready to assist you. How can I help you today?\n"
          ]
        }
      ]
    },
    {
      "cell_type": "code",
      "source": [
        "# Sample log data\n",
        "log_data = \"\"\"\n",
        "2025-09-18 02:10:21 INFO Starting server on port 8080\n",
        "2025-09-18 02:10:25 WARNING High memory usage detected: 85%\n",
        "2025-09-18 02:10:27 ERROR Database connection failed\n",
        "2025-09-18 02:10:31 INFO Retrying database connection\n",
        "2025-09-18 02:10:35 ERROR Database connection failed\n",
        "2025-09-18 02:10:40 CRITICAL Service unavailable due to repeated DB failures\n",
        "\"\"\""
      ],
      "metadata": {
        "id": "nlAIFxtW3VIO"
      },
      "execution_count": 5,
      "outputs": []
    },
    {
      "cell_type": "code",
      "source": [
        "with open(\"system_logs.txt\", \"w\") as f:\n",
        "    f.write(log_data)\n"
      ],
      "metadata": {
        "id": "byTgyd_x4oR8"
      },
      "execution_count": 6,
      "outputs": []
    },
    {
      "cell_type": "code",
      "source": [
        "# Read logs\n",
        "with open(\"system_logs.txt\", \"r\") as f:\n",
        "    logs = f.read()\n",
        "print(\"Raw logs:\\n\", logs)\n"
      ],
      "metadata": {
        "colab": {
          "base_uri": "https://localhost:8080/"
        },
        "id": "O-rAjTmi4swX",
        "outputId": "2c01093c-98b5-49ca-d078-47f630f8275e"
      },
      "execution_count": 7,
      "outputs": [
        {
          "output_type": "stream",
          "name": "stdout",
          "text": [
            "Raw logs:\n",
            " \n",
            "2025-09-18 02:10:21 INFO Starting server on port 8080\n",
            "2025-09-18 02:10:25 WARNING High memory usage detected: 85%\n",
            "2025-09-18 02:10:27 ERROR Database connection failed\n",
            "2025-09-18 02:10:31 INFO Retrying database connection\n",
            "2025-09-18 02:10:35 ERROR Database connection failed\n",
            "2025-09-18 02:10:40 CRITICAL Service unavailable due to repeated DB failures\n",
            "\n"
          ]
        }
      ]
    },
    {
      "cell_type": "code",
      "source": [
        "# Log explanation\n",
        "prompt = f\"\"\"\n",
        "You are an expert IT assistant who helps analyze server logs.\n",
        "Here are some logs:\n",
        "{logs}\n",
        "\n",
        "Please explain in simple terms what is happening.\n",
        "\"\"\"\n",
        "response = model.generate_content(prompt)\n",
        "print(response.text)"
      ],
      "metadata": {
        "colab": {
          "base_uri": "https://localhost:8080/",
          "height": 211
        },
        "id": "aT2G5NgC4v6D",
        "outputId": "ab706b60-b6cb-4c4e-fd22-8d2048e4ebde"
      },
      "execution_count": 8,
      "outputs": [
        {
          "output_type": "stream",
          "name": "stdout",
          "text": [
            "Alright, let's take a look at these logs. Here's a simple breakdown of what's happening:\n",
            "\n",
            "1.  **Server Starts Up (02:10:21):** Everything begins normally, the server successfully starts.\n",
            "2.  **Memory Warning (02:10:25):** Almost immediately, the server detects that it's using a lot of its available memory (85%). This is a **warning sign** that the system is under strain or might be running out of resources.\n",
            "3.  **Database Fails (02:10:27):** Right after the memory warning, the server tries to connect to its database (which is essential for most applications) but **fails**.\n",
            "4.  **Attempted Recovery (02:10:31):** The system tries to be smart and automatically attempts to reconnect to the database.\n",
            "5.  **Database Fails Again (02:10:35):** Unfortunately, the retry attempt also **fails**.\n",
            "6.  **Service Goes Down (02:10:40):** Because the server couldn't connect to its database even after trying twice, it has given up. The system has reached a **critical state**, and the **entire service is now unavailable** to users.\n",
            "\n",
            "**In essence:** Your server started, quickly ran into memory problems, then completely lost its ability to talk to its database. Because the database is crucial, the entire service has now stopped working. The high memory usage is a strong candidate for *why* the database connection is failing.\n"
          ]
        }
      ]
    },
    {
      "cell_type": "code",
      "source": [
        "# Severity classification\n",
        "classification_prompt = f\"\"\"\n",
        "You are an expert Site Reliability Engineer.\n",
        "Read the following logs and classify the incident severity as:\n",
        "- P1 (Critical): service down or customer impact\n",
        "- P2 (High): service degraded, limited impact\n",
        "- P3 (Low): minor issue, warning only\n",
        "\n",
        "Explain rationale behind final classification.\n",
        "\n",
        "Logs:\n",
        "{logs}\n",
        "\"\"\"\n",
        "response = model.generate_content(classification_prompt)\n",
        "print(response.text)\n"
      ],
      "metadata": {
        "colab": {
          "base_uri": "https://localhost:8080/",
          "height": 263
        },
        "id": "yixPADc04-Mx",
        "outputId": "7e1c3925-5fe1-49b3-8738-d1f8741ba2f2"
      },
      "execution_count": 9,
      "outputs": [
        {
          "output_type": "stream",
          "name": "stdout",
          "text": [
            "**Incident Severity: P1 (Critical)**\n",
            "\n",
            "**Rationale:**\n",
            "\n",
            "The logs clearly indicate a critical service outage, which aligns directly with the P1 definition of \"service down or customer impact.\"\n",
            "\n",
            "Here's a breakdown of the escalation:\n",
            "\n",
            "1.  **`WARNING High memory usage detected: 85%`**: This is an early warning sign, potentially indicating resource exhaustion, which could lead to instability. On its own, this might be a P3 or P2 depending on thresholds and prior history.\n",
            "2.  **`ERROR Database connection failed` (repeated twice)**: This indicates a fundamental failure in a core component. The service cannot perform its function without database access. Repeated failures, especially after a retry, point to a persistent and serious issue.\n",
            "3.  **`CRITICAL Service unavailable due to repeated DB failures`**: This is the definitive statement. The service explicitly declares itself \"unavailable,\" directly confirming that it is down and customers are impacted. The `CRITICAL` log level further emphasizes the severity from the application's perspective.\n",
            "\n",
            "The combination of persistent database connection failures and the final declaration of \"Service unavailable\" leaves no doubt that the service is non-functional, leading to a direct and complete customer impact.\n"
          ]
        }
      ]
    },
    {
      "cell_type": "code",
      "source": [
        "# Summary + root cause\n",
        "summary_prompt = f\"\"\"\n",
        "You are an expert Incident Response Assistant.\n",
        "Read the following logs and provide:\n",
        "1. A short summary (2-3 sentences) in plain English.\n",
        "2. Possible root cause hints (bullet points).\n",
        "\n",
        "Logs:\n",
        "{logs}\n",
        "\"\"\"\n",
        "response = model.generate_content(summary_prompt)\n",
        "print(response.text)\n"
      ],
      "metadata": {
        "colab": {
          "base_uri": "https://localhost:8080/",
          "height": 228
        },
        "id": "FrrJMc6e5PFS",
        "outputId": "cd9696bc-60a6-4caa-d2b8-a43f82d4e899"
      },
      "execution_count": 10,
      "outputs": [
        {
          "output_type": "stream",
          "name": "stdout",
          "text": [
            "Here's a summary and possible root cause hints based on the logs:\n",
            "\n",
            "### 1. Short Summary\n",
            "\n",
            "The server started successfully, but within seconds, it reported critically high memory usage. This was immediately followed by repeated failures to establish a database connection, ultimately leading to the service becoming unavailable.\n",
            "\n",
            "### 2. Possible Root Cause Hints\n",
            "\n",
            "*   **Memory Exhaustion on Application Host:** The high memory usage (85%) detected very early suggests the application server might be running out of resources. This could be due to a memory leak in the application, insufficient allocated memory for the server, or another process on the same host consuming excessive resources, thus preventing the application from properly connecting to the database.\n",
            "*   **Database Server Issues:** The database server itself might be down, unresponsive, or overloaded, reaching its connection limits, which would prevent the application from establishing a connection.\n",
            "*   **Network Connectivity Problems:** Intermittent or persistent network issues between the application server and the database server could be preventing successful connection attempts.\n"
          ]
        }
      ]
    },
    {
      "cell_type": "code",
      "source": [
        "def send_email_alert(message: str):\n",
        "    sender_email = \"itskillsupgrade@gmail.com\"\n",
        "    receiver_email = \"itskillsupgrade@gmail.com\"\n",
        "    app_password = \"miydxcnopqjrpsyg\"  # Google App Password\n",
        "\n",
        "    subject = \"Incident Alert from Gemini\"\n",
        "\n",
        "    msg = MIMEMultipart()\n",
        "    msg['From'] = sender_email\n",
        "    msg['To'] = receiver_email\n",
        "    msg['Subject'] = subject\n",
        "    msg.attach(MIMEText(message, 'plain'))\n",
        "\n",
        "    try:\n",
        "        server = smtplib.SMTP(\"smtp.gmail.com\", 587)\n",
        "        server.starttls()\n",
        "        server.login(sender_email, app_password)\n",
        "        server.sendmail(sender_email, receiver_email, msg.as_string())\n",
        "        server.quit()\n",
        "        print(\"[EMAIL SENT] \" + message)\n",
        "    except Exception as e:\n",
        "        print(\"[ERROR] Failed to send email:\", e)"
      ],
      "metadata": {
        "id": "3r5olpOS5pFf"
      },
      "execution_count": 11,
      "outputs": []
    },
    {
      "cell_type": "code",
      "source": [
        "# Escalation workflow\n",
        "def escalation_workflow(severity: str, summary: str):\n",
        "    if severity == \"P3\":\n",
        "        return \"[NO ACTION] Logged only.\"\n",
        "    elif severity == \"P2\":\n",
        "        send_email_alert(f\"[P2 Incident] {summary}\")\n",
        "        return \"[ACTION] Emailed ops team.\"\n",
        "    elif severity == \"P1\":\n",
        "        send_email_alert(f\"[P1 CRITICAL] {summary} | Escalating to manager.\")\n",
        "        return \"[ACTION] Emailed ops + manager. War room escalation triggered.\"\n",
        "    else:\n",
        "        return \"[UNKNOWN] No matching workflow.\""
      ],
      "metadata": {
        "id": "v4Tz0g1j5yIQ"
      },
      "execution_count": 12,
      "outputs": []
    },
    {
      "cell_type": "code",
      "source": [
        "incident_logs = \"\"\"\n",
        "2025-09-18 02:10:27 ERROR Database connection failed\n",
        "2025-09-18 02:10:35 ERROR Database connection failed\n",
        "2025-09-18 02:10:40 CRITICAL Service unavailable due to repeated DB failures\n",
        "\"\"\"\n",
        "\n",
        "classification_prompt = f\"\"\"\n",
        "You are an expert incident classifier.\n",
        "Classify the severity as P1, P2, or P3 and give a 1-line summary.\n",
        "\n",
        "Logs:\n",
        "{incident_logs}\n",
        "\"\"\"\n",
        "response = model.generate_content(classification_prompt)\n",
        "ai_output = response.text\n",
        "print(\"Gemini Output:\", ai_output)\n"
      ],
      "metadata": {
        "colab": {
          "base_uri": "https://localhost:8080/",
          "height": 34
        },
        "id": "QbBHERcB58JQ",
        "outputId": "385702ed-504d-4061-8f65-c3c4b36df80f"
      },
      "execution_count": 13,
      "outputs": [
        {
          "output_type": "stream",
          "name": "stdout",
          "text": [
            "Gemini Output: P1: Service is unavailable due to repeated database connection failures.\n"
          ]
        }
      ]
    },
    {
      "cell_type": "code",
      "source": [
        "# Example severity extraction\n",
        "severity = \"P1\"\n",
        "summary = \"Database unavailable due to repeated failures\"\n",
        "\n",
        "result = escalation_workflow(severity, summary)\n",
        "print(result)\n"
      ],
      "metadata": {
        "colab": {
          "base_uri": "https://localhost:8080/"
        },
        "id": "cbtGe7Jm6OLi",
        "outputId": "b45b488b-5e92-42ce-ab4e-ef6193a303d5"
      },
      "execution_count": 14,
      "outputs": [
        {
          "output_type": "stream",
          "name": "stdout",
          "text": [
            "[EMAIL SENT] [P1 CRITICAL] Database unavailable due to repeated failures | Escalating to manager.\n",
            "[ACTION] Emailed ops + manager. War room escalation triggered.\n"
          ]
        }
      ]
    },
    {
      "cell_type": "code",
      "source": [
        "# Large logs example\n",
        "large_logs = \"\\n\".join([\n",
        "    f\"2025-09-18 02:{i:02d}:00 ERROR Database connection failed\"\n",
        "    for i in range(100)\n",
        "]) + \"\\n2025-09-18 03:00:00 CRITICAL Service unavailable\"\n",
        "\n",
        "with open(\"large_logs.txt\", \"w\") as f:\n",
        "    f.write(large_logs)\n",
        "\n",
        "with open(\"large_logs.txt\", \"r\") as f:\n",
        "    logs = f.read()\n"
      ],
      "metadata": {
        "id": "hqmIQq6l6UIk"
      },
      "execution_count": 15,
      "outputs": []
    },
    {
      "cell_type": "code",
      "source": [
        "\n",
        "summary_prompt = f\"\"\"\n",
        "You are an expert incident responder.\n",
        "Read the following logs and provide:\n",
        "1. A 3-sentence summary in plain English.\n",
        "2. The final incident severity (P1, P2, P3).\n",
        "3. Root cause hints in bullet points.\n",
        "\n",
        "Logs:\n",
        "{logs}\n",
        "\"\"\"\n",
        "response = model.generate_content(summary_prompt)\n",
        "print(response.text)"
      ],
      "metadata": {
        "colab": {
          "base_uri": "https://localhost:8080/",
          "height": 332
        },
        "id": "N44JE-SH6cxr",
        "outputId": "a72602c6-ef4b-4c99-8a4e-b29a3db0404d"
      },
      "execution_count": 16,
      "outputs": [
        {
          "output_type": "stream",
          "name": "stdout",
          "text": [
            "Here's the incident analysis:\n",
            "\n",
            "---\n",
            "\n",
            "1.  **3-sentence summary in plain English:**\n",
            "    Starting at 02:00:00, the system experienced continuous \"Database connection failed\" errors every minute for a full hour. This prolonged and unresolvable issue with database connectivity escalated to a complete system outage. By 03:00:00, the service was deemed \"CRITICAL Service unavailable,\" indicating a total loss of functionality.\n",
            "\n",
            "2.  **Final incident severity:**\n",
            "    P1 (Critical)\n",
            "\n",
            "3.  **Root cause hints:**\n",
            "    *   **Database Server Status:** The database server itself may be down, crashed, or unresponsive.\n",
            "    *   **Network Connectivity:** Issues with network paths, firewalls, or routing preventing the application from reaching the database.\n",
            "    *   **Database Resource Exhaustion:** The database might have run out of resources such as available connections, disk space, or memory.\n",
            "    *   **Authentication/Authorization:** Incorrect, expired, or revoked database credentials used by the application.\n",
            "    *   **Application-side Connection Pool:** The application's database connection pool could be exhausted or misconfigured, failing to establish new connections.\n",
            "    *   **DNS Resolution:** Problems resolving the database hostname to an IP address.\n"
          ]
        }
      ]
    },
    {
      "cell_type": "code",
      "source": [
        "# Optional: Analyze image (Gemini multimodal)\n",
        "image_path = \"/content/Screenshot 2025-10-15 183200.png\"\n",
        "\n",
        "def encode_image(image_path):\n",
        "  with open(image_path, \"rb\") as image_file:\n",
        "    return base64.b64encode(image_file.read()).decode('utf-8')\n",
        "\n",
        "base64_image = encode_image(image_path)\n",
        "\n",
        "response = model.generate_content([\n",
        "    \"Analyze this graph and explain what's happening.\",\n",
        "    {\"mime_type\": \"image/png\", \"data\": base64.b64decode(base64_image)}\n",
        "])\n",
        "\n",
        "print(response.text)"
      ],
      "metadata": {
        "colab": {
          "base_uri": "https://localhost:8080/",
          "height": 401
        },
        "id": "eyzZMaFY6dwm",
        "outputId": "4f8a7db8-d37a-4797-ab27-b1cfd1866247"
      },
      "execution_count": 18,
      "outputs": [
        {
          "output_type": "stream",
          "name": "stdout",
          "text": [
            "This graph displays the memory utilization and swap usage of a system over approximately 20 minutes, from 05:40 to 06:00 on September 21, 2025.\n",
            "\n",
            "Here's a breakdown of what's happening:\n",
            "\n",
            "1.  **Initial State (05:40 - ~05:44):**\n",
            "    *   **Memory Utilization:** The system is using approximately **8.5-9 GB of \"used\" memory** (teal/blue) for active applications and the OS. There's also about **4-4.5 GB of \"cached\" memory** (orange), which the OS uses to store frequently accessed data for faster retrieval. \"Buffer\" memory (green) is negligible. The total physical memory being utilized is around **13-13.5 GB**.\n",
            "    *   **Swap Utilization:** During this period, swap usage (red line) is very low, around **9-10 MB**. This indicates that the system has ample physical RAM and doesn't need to offload data to the slower disk-based swap space.\n",
            "\n",
            "2.  **Increased Memory Pressure (~05:44 - ~05:59):**\n",
            "    *   **Memory Utilization:** Around 05:44, there's a noticeable increase in **\"used\" memory**, rising to approximately **9.5-10 GB**. To accommodate this increased demand from applications, the system slightly reduces the **\"cached\" memory** to about 3.5-4 GB. The total physical memory being utilized remains high, close to **13.5-14 GB**, suggesting the system is near its physical RAM capacity.\n",
            "    *   **Swap Utilization:** Critically, as \"used\" memory increases, the **swap utilization (red line) begins to climb sharply**. It jumps from ~10 MB to over **19 MB** and remains elevated throughout this period. This is a clear indicator of **memory pressure**. The system is running out of physical RAM and is forced to move less frequently used memory pages from RAM to the hard disk (swap space) to free up physical memory for active processes. This can lead to reduced system performance as accessing data from swap is much slower than from RAM.\n",
            "\n",
            "3.  **Sudden System Event (~05:59 - 06:00):**\n",
            "    *   **Memory Utilization:** Just before 06:00, there's a **dramatic and sudden drop in all memory utilization metrics** (\"used\" and \"cached\") to virtually **0 B**.\n",
            "    *   **Swap Utilization:** Simultaneously, **swap utilization also plummets to 0 B**.\n",
            "\n",
            "**Conclusion:**\n",
            "\n",
            "The graph shows that the system experienced a period of increasing memory demand starting around 05:44. This led to significant memory pressure, evidenced by the spike in swap utilization, indicating that the system was relying on slower disk-based swap to manage its memory. The situation persisted for about 15 minutes.\n",
            "\n",
            "The abrupt drop of all memory (used, cached, and swap) to zero bytes at the end of the graph, just before 06:00, strongly suggests that the **system either shut down or rebooted**. It's not typical for all memory to simply drop to zero without a major system event.\n"
          ]
        }
      ]
    }
  ]
}
